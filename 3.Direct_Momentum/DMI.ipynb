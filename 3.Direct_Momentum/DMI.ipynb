{
 "cells": [
  {
   "cell_type": "code",
   "execution_count": 1,
   "id": "c7c60ff6",
   "metadata": {},
   "outputs": [],
   "source": [
    "import ccxt.async_support as ccxt\n",
    "import asyncio\n",
    "import pandas as pd\n",
    "import numpy as np\n",
    "import logging\n",
    "logging.basicConfig(level=logging.INFO, format='%(asctime)s - %(levelname)s - %(message)s')\n",
    "logger = logging.getLogger(__name__)\n",
    "\n",
    "from sklearn.ensemble import GradientBoostingClassifier\n",
    "from sklearn.preprocessing import StandardScaler\n"
   ]
  },
  {
   "cell_type": "code",
   "execution_count": 2,
   "id": "c943a96a",
   "metadata": {},
   "outputs": [],
   "source": [
    "symbol         = 'ALCH/USDT'\n",
    "timeframe      = '1m'\n",
    "risk_amount    = 10        #10$\n",
    "leverage       = 5         #50$\n",
    "dmi_period     = 14\n",
    "atr_period     = 14\n",
    "tp_multiplier  = 2.0\n",
    "sl_multiplier  = 1.0\n",
    "fee_rate       = 0.0002\n",
    "max_positions  = 2\n",
    "check_interval = 60     #seconds\n",
    "model_threshold= 0.7    #70%"
   ]
  },
  {
   "cell_type": "code",
   "execution_count": 3,
   "id": "c1d7563a",
   "metadata": {},
   "outputs": [],
   "source": [
    "open_positions = []\n",
    "model = GradientBoostingClassifier(n_estimators=100, random_state=42)\n",
    "scaler = StandardScaler()"
   ]
  },
  {
   "cell_type": "code",
   "execution_count": 4,
   "id": "dd9e9a9b",
   "metadata": {},
   "outputs": [],
   "source": [
    "async def fetch_data(exchange, symbol:str, timeframe:str, limit:int=100)->pd.DataFrame:\n",
    "    try:\n",
    "        ohlcv = await exchange.fetch_ohlcv(symbol, timeframe, limit=limit)\n",
    "        df = pd.DataFrame(ohlcv, columns=['timestamp', 'open', 'high', 'low', 'close', 'volume'])\n",
    "        df['timestamp'] = pd.to_datetime(df['timestamp'], unit='ms')\n",
    "        df.set_index('timestamp', inplace=True)\n",
    "        return df\n",
    "    except Exception as e:\n",
    "        logger.error(f\"Error fetching data: {e}\")\n",
    "        return pd.DataFrame()"
   ]
  },
  {
   "cell_type": "code",
   "execution_count": 5,
   "id": "86703f3a",
   "metadata": {},
   "outputs": [],
   "source": [
    "def calculate_indicators(df: pd.DataFrame)->pd.DataFrame:\n",
    "    try:\n",
    "        #df['high'].diff() = df['high'].shift(0) - df['high'].shift(1)\n",
    "        #If the upward movement is stronger than the (next) downward movement, keep the upward movement.\n",
    "        df['dm_plus']  = df['high'].diff().where(df['high'].diff() > df['low'].diff().shift(-1), 0)\n",
    "        df['dm_minus'] = -df['low'].diff().where(-df['low'].diff() > df['high'].diff().shift(-1), 0)\n",
    "        df['tr']       = pd.concat([df['high'] - df['low'],\n",
    "                                   (df['high'] - df['close'].shift()).abs(),\n",
    "                                   (df['low'] - df['close'].shift()).abs()], axis=1).max(axis=1)\n",
    "        df['atr']      = df['tr'].rolling(window=atr_period).mean()\n",
    "        df['di_plus']  = (df['dm_plus'].rolling(window=dmi_period).sum() / df['atr']) * 100\n",
    "        df['di_minus'] = (df['dm_minus'].rolling(window=dmi_period).sum() / df['atr']) * 100\n",
    "\n",
    "        ####\n",
    "        df['price_change'] = df['close'].pct_change()\n",
    "        df['di_diff']      = df['di_plus'] - df['di_minus']\n",
    "        return df\n",
    "    except Exception as e:\n",
    "        logger.error(f\"Error calculating indicators: {e}\")\n",
    "        return df"
   ]
  },
  {
   "cell_type": "code",
   "execution_count": 6,
   "id": "6c1a4a4d",
   "metadata": {},
   "outputs": [],
   "source": [
    "def train_model(df: pd.DataFrame)->None:\n",
    "    try:\n",
    "        features = ['price_change', 'di_diff', 'atr']\n",
    "        X = df[features].dropna()\n",
    "        y = (df['di_plus'].shift(-1) > df['di_minus'].shift(-1)).astype(int)[X.index]\n",
    "        if len(X) < 10:\n",
    "            return \n",
    "        X_scaled = scaler.fit_transform(X)\n",
    "        model.fit(X_scaled, y)\n",
    "    except Exception as e:\n",
    "        logger.error(f\"Error training model: {e}\")"
   ]
  },
  {
   "cell_type": "code",
   "execution_count": 7,
   "id": "8846934a",
   "metadata": {},
   "outputs": [
    {
     "ename": "SyntaxError",
     "evalue": "incomplete input (2211626832.py, line 4)",
     "output_type": "error",
     "traceback": [
      "\u001b[1;36m  Cell \u001b[1;32mIn[7], line 4\u001b[1;36m\u001b[0m\n\u001b[1;33m    di_minus = df['di_minus'].iloc[-1]\u001b[0m\n\u001b[1;37m                                      ^\u001b[0m\n\u001b[1;31mSyntaxError\u001b[0m\u001b[1;31m:\u001b[0m incomplete input\n"
     ]
    }
   ],
   "source": [
    "def get_dmi_signal(df: pd.DataFrame)->str:\n",
    "    try:\n",
    "        di_plus = df['di_plus'].iloc[-1]\n",
    "        di_minus = df['di_minus'].iloc[-1]"
   ]
  },
  {
   "cell_type": "code",
   "execution_count": null,
   "id": "96a900f9",
   "metadata": {},
   "outputs": [],
   "source": [
    "####### Workign on it"
   ]
  },
  {
   "cell_type": "markdown",
   "id": "d691349f",
   "metadata": {},
   "source": []
  },
  {
   "cell_type": "code",
   "execution_count": null,
   "id": "2a6b81e1",
   "metadata": {},
   "outputs": [],
   "source": []
  }
 ],
 "metadata": {
  "kernelspec": {
   "display_name": "Python 3",
   "language": "python",
   "name": "python3"
  },
  "language_info": {
   "codemirror_mode": {
    "name": "ipython",
    "version": 3
   },
   "file_extension": ".py",
   "mimetype": "text/x-python",
   "name": "python",
   "nbconvert_exporter": "python",
   "pygments_lexer": "ipython3",
   "version": "3.11.5"
  }
 },
 "nbformat": 4,
 "nbformat_minor": 5
}
