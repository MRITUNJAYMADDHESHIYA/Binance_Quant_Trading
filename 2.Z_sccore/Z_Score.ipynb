{
 "cells": [
  {
   "cell_type": "code",
   "execution_count": 1,
   "id": "226990b3",
   "metadata": {},
   "outputs": [],
   "source": [
    "import ccxt\n",
    "import pandas as pd\n",
    "import numpy as np\n",
    "import time"
   ]
  },
  {
   "cell_type": "code",
   "execution_count": null,
   "id": "8a3a68d9",
   "metadata": {},
   "outputs": [],
   "source": [
    "exchange = ccxt.binance({\n",
    "    'enableRateLimit': True})"
   ]
  },
  {
   "cell_type": "code",
   "execution_count": 3,
   "id": "8356fee3",
   "metadata": {},
   "outputs": [],
   "source": [
    "def fetch_price(symbol='BTC/USDT'):\n",
    "    df = exchange.fetch_ticker(symbol)\n",
    "    return df['last']"
   ]
  },
  {
   "cell_type": "code",
   "execution_count": 4,
   "id": "46607a41",
   "metadata": {},
   "outputs": [],
   "source": [
    "def trading_logic(symbol='BTC/USDT', window=20, z_score_threshold=2.0):\n",
    "    while True:\n",
    "        # Fetch recent price data\n",
    "        ohlcv = exchange.fetch_ohlcv(symbol, timeframe='1m', limit=window)\n",
    "        df = pd.DataFrame(ohlcv, columns=['timestamp', 'open', 'high', 'low', 'close', 'volume'])\n",
    "        df['returns'] = df['close'].pct_change().dropna()\n",
    "\n",
    "        ##calculate z-score\n",
    "        mean = df['returns'].mean()\n",
    "        std = df['returns'].std()\n",
    "        latest_return = df['returns'].iloc[-1]\n",
    "        z_score = (latest_return - mean) / std if std != 0 else 0\n",
    "\n",
    "        current_price = fetch_price(symbol)\n",
    "        print(f\"Current Price: {current_price:.2f}, Z-Score: {z_score: .2f}\")\n",
    "\n",
    "        ###Trading logic based on z-score\n",
    "        if z_score > z_score_threshold:\n",
    "            print(\"Sell signal: Price too high, reverting to mean\")\n",
    "        elif z_score < -z_score_threshold:\n",
    "            print(\"Buy signal: Price too low, reverting to mean\")\n",
    "        else:\n",
    "            print(\"Z-Score is within the threshold, no action taken.\")\n",
    "        time.sleep(60)\n",
    "\n",
    "    "
   ]
  },
  {
   "cell_type": "code",
   "execution_count": null,
   "id": "2de3c8fe",
   "metadata": {},
   "outputs": [
    {
     "name": "stdout",
     "output_type": "stream",
     "text": [
      "Current Price: 108806.75, Z-Score:  0.05\n",
      "Z-Score is within the threshold, no action taken.\n"
     ]
    }
   ],
   "source": [
    "if __name__ == \"__main__\":\n",
    "    trading_logic()"
   ]
  },
  {
   "cell_type": "code",
   "execution_count": null,
   "id": "e99a5cba",
   "metadata": {},
   "outputs": [],
   "source": []
  }
 ],
 "metadata": {
  "kernelspec": {
   "display_name": "Python 3",
   "language": "python",
   "name": "python3"
  },
  "language_info": {
   "codemirror_mode": {
    "name": "ipython",
    "version": 3
   },
   "file_extension": ".py",
   "mimetype": "text/x-python",
   "name": "python",
   "nbconvert_exporter": "python",
   "pygments_lexer": "ipython3",
   "version": "3.11.5"
  }
 },
 "nbformat": 4,
 "nbformat_minor": 5
}
