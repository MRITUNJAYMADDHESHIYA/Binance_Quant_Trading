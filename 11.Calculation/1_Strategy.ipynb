{
 "cells": [
  {
   "cell_type": "code",
   "execution_count": 2,
   "id": "8cff5108",
   "metadata": {},
   "outputs": [],
   "source": [
    "def trade_simulation(initial_balance=100, max_trades=30):\n",
    "    balance = initial_balance\n",
    "    trade_results = []\n",
    "    \n",
    "    for trade_num in range(1, max_trades + 1):\n",
    "        risk_percent = (trade_num + 1)  # 1st trade = 2%, 2nd trade = 3%, ...\n",
    "        risk_amount = (risk_percent / 100) * initial_balance\n",
    "        \n",
    "        balance -= risk_amount  # SL hit → deduct\n",
    "        \n",
    "        trade_results.append({\n",
    "            \"Trade\": trade_num,\n",
    "            \"Risk% of Initial\": risk_percent,\n",
    "            \"Risk Amount ($)\": round(risk_amount, 2),\n",
    "            \"Balance After Trade ($)\": round(balance, 2)\n",
    "        })\n",
    "        \n",
    "        if balance <= 0:\n",
    "            break  # Stop if account goes negative\n",
    "    \n",
    "    return trade_results\n"
   ]
  },
  {
   "cell_type": "code",
   "execution_count": 3,
   "id": "8e00fe21",
   "metadata": {},
   "outputs": [
    {
     "name": "stdout",
     "output_type": "stream",
     "text": [
      " Trade  Risk% of Initial  Risk Amount ($)  Balance After Trade ($)\n",
      "     1                 2              2.0                     98.0\n",
      "     2                 3              3.0                     95.0\n",
      "     3                 4              4.0                     91.0\n",
      "     4                 5              5.0                     86.0\n",
      "     5                 6              6.0                     80.0\n",
      "     6                 7              7.0                     73.0\n",
      "     7                 8              8.0                     65.0\n",
      "     8                 9              9.0                     56.0\n",
      "     9                10             10.0                     46.0\n",
      "    10                11             11.0                     35.0\n",
      "    11                12             12.0                     23.0\n",
      "    12                13             13.0                     10.0\n",
      "    13                14             14.0                     -4.0\n"
     ]
    }
   ],
   "source": [
    "import pandas as pd\n",
    "results = trade_simulation()\n",
    "df = pd.DataFrame(results)\n",
    "print(df.to_string(index=False))"
   ]
  },
  {
   "cell_type": "code",
   "execution_count": 5,
   "id": "3df933d9",
   "metadata": {},
   "outputs": [
    {
     "name": "stdout",
     "output_type": "stream",
     "text": [
      "K=0 SL then TP -> Balance=104.00, Profitable=True\n",
      "K=1 SL then TP -> Balance=104.00, Profitable=True\n",
      "K=2 SL then TP -> Balance=103.00, Profitable=True\n",
      "K=3 SL then TP -> Balance=101.00, Profitable=True\n",
      "K=4 SL then TP -> Balance=98.00, Profitable=False\n",
      "K=5 SL then TP -> Balance=94.00, Profitable=False\n",
      "K=6 SL then TP -> Balance=89.00, Profitable=False\n",
      "K=7 SL then TP -> Balance=83.00, Profitable=False\n",
      "K=8 SL then TP -> Balance=76.00, Profitable=False\n",
      "K=9 SL then TP -> Balance=68.00, Profitable=False\n",
      "K=10 SL then TP -> Balance=59.00, Profitable=False\n",
      "K=11 SL then TP -> Balance=49.00, Profitable=False\n",
      "K=12 SL then TP -> Balance=38.00, Profitable=False\n",
      "K=13 SL then TP -> Balance=26.00, Profitable=False\n",
      "K=14 SL then TP -> Balance=13.00, Profitable=False\n",
      "K=15 SL then TP -> Balance=-1.00, Profitable=False\n",
      "K=16 SL then TP -> Balance=-16.00, Profitable=False\n",
      "K=17 SL then TP -> Balance=-32.00, Profitable=False\n",
      "K=18 SL then TP -> Balance=-49.00, Profitable=False\n",
      "K=19 SL then TP -> Balance=-67.00, Profitable=False\n",
      "K=20 SL then TP -> Balance=-86.00, Profitable=False\n",
      "K=21 SL then TP -> Balance=-106.00, Profitable=False\n",
      "K=22 SL then TP -> Balance=-127.00, Profitable=False\n",
      "K=23 SL then TP -> Balance=-149.00, Profitable=False\n",
      "K=24 SL then TP -> Balance=-172.00, Profitable=False\n",
      "K=25 SL then TP -> Balance=-196.00, Profitable=False\n",
      "K=26 SL then TP -> Balance=-221.00, Profitable=False\n",
      "K=27 SL then TP -> Balance=-247.00, Profitable=False\n",
      "K=28 SL then TP -> Balance=-274.00, Profitable=False\n",
      "K=29 SL then TP -> Balance=-302.00, Profitable=False\n",
      "K=30 SL then TP -> Balance=-331.00, Profitable=False\n"
     ]
    }
   ],
   "source": [
    "def profitable_k(initial_balance=100, max_k=30):\n",
    "    results = []\n",
    "    for K in range(max_k+1):\n",
    "        losses = sum(i+1 for i in range(1, K+1))\n",
    "        profit = 2 * (K+2)\n",
    "        balance = initial_balance - losses + profit\n",
    "        results.append((K, balance, balance > initial_balance))\n",
    "    return results\n",
    "\n",
    "res = profitable_k()\n",
    "for K, balance, is_profit in res[:100]:  # show first 10\n",
    "    print(f\"K={K} SL then TP -> Balance={balance:.2f}, Profitable={is_profit}\")\n"
   ]
  },
  {
   "cell_type": "code",
   "execution_count": 7,
   "id": "9b07d0ed",
   "metadata": {},
   "outputs": [
    {
     "name": "stdout",
     "output_type": "stream",
     "text": [
      "Variant A (risk% of INITIAL):\n",
      "  Trades needed = 400, final balance = $200.00\n"
     ]
    }
   ],
   "source": [
    "# Variant A: risk % of INITIAL balance (fixed dollar risk amounts)\n",
    "def trades_to_target_initial(initial_balance=100.0, target=200.0, block_percents=(2,3,4,5)):\n",
    "    # dollar risks are based on initial balance (constant)\n",
    "    risks = [p/100.0 * initial_balance for p in block_percents]\n",
    "    net_per_block = 2*risks[3] - sum(risks[:3])  # TP on 4th gives 2*risk4\n",
    "    if net_per_block <= 0:\n",
    "        return None, None  # never reach target with non-positive block net\n",
    "    needed_gain = target - initial_balance\n",
    "    blocks_needed = int((needed_gain + net_per_block - 1e-12) // net_per_block)  # floor\n",
    "    # ensure we reach or exceed target (round up)\n",
    "    if blocks_needed * net_per_block < needed_gain:\n",
    "        blocks_needed += 1\n",
    "    trades_needed = blocks_needed * len(block_percents)\n",
    "    final_balance = initial_balance + blocks_needed * net_per_block\n",
    "    return trades_needed, final_balance\n",
    "\n",
    "# # Variant B: risk % of CURRENT balance (compounding)\n",
    "# def trades_to_target_compounding(initial_balance=100.0, target=200.0, block_percents=(2,3,4,5), max_trades=2000000):\n",
    "#     balance = initial_balance\n",
    "#     trades = 0\n",
    "#     while balance < target and trades < max_trades:\n",
    "#         for i, p in enumerate(block_percents):\n",
    "#             trades += 1\n",
    "#             risk = p/100.0 * balance\n",
    "#             if i < len(block_percents)-1:\n",
    "#                 # SL on first (n-1) trades\n",
    "#                 balance -= risk\n",
    "#             else:\n",
    "#                 # TP on last (4th) trade: 1:2 RR\n",
    "#                 balance += 2 * risk\n",
    "#             if balance >= target:\n",
    "#                 return trades, balance\n",
    "#     return None, balance\n",
    "\n",
    "if __name__ == \"__main__\":\n",
    "    t_init, bal_init = trades_to_target_initial()\n",
    "    # t_comp, bal_comp = trades_to_target_compounding()\n",
    "\n",
    "    print(\"Variant A (risk% of INITIAL):\")\n",
    "    if t_init:\n",
    "        print(f\"  Trades needed = {t_init}, final balance = ${bal_init:.2f}\")\n",
    "    else:\n",
    "        print(\"  Block net <= 0 → will never reach target.\")\n",
    "\n",
    "    # print(\"\\nVariant B (risk% of CURRENT balance):\")\n",
    "    # if t_comp:\n",
    "    #     print(f\"  Trades needed = {t_comp}, final balance = ${bal_comp:.2f}\")\n",
    "    # else:\n",
    "    #     print(\"  Did not reach target within the max iterations.\")\n"
   ]
  },
  {
   "cell_type": "code",
   "execution_count": null,
   "id": "50d56610",
   "metadata": {},
   "outputs": [],
   "source": []
  }
 ],
 "metadata": {
  "kernelspec": {
   "display_name": "Python 3",
   "language": "python",
   "name": "python3"
  },
  "language_info": {
   "codemirror_mode": {
    "name": "ipython",
    "version": 3
   },
   "file_extension": ".py",
   "mimetype": "text/x-python",
   "name": "python",
   "nbconvert_exporter": "python",
   "pygments_lexer": "ipython3",
   "version": "3.11.5"
  }
 },
 "nbformat": 4,
 "nbformat_minor": 5
}
