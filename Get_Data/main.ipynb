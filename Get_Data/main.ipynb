{
 "cells": [
  {
   "cell_type": "code",
   "execution_count": 1,
   "id": "05e3c8a6",
   "metadata": {},
   "outputs": [
    {
     "name": "stdout",
     "output_type": "stream",
     "text": [
      "Downloading aggregate trades...\n"
     ]
    },
    {
     "ename": "BinanceAPIException",
     "evalue": "APIError(code=-1003): Too many requests; current limit of IP(103.253.174.244) is 2400 requests per minute. Please use the websocket for live updates to avoid polling the API.",
     "output_type": "error",
     "traceback": [
      "\u001b[1;31m---------------------------------------------------------------------------\u001b[0m",
      "\u001b[1;31mBinanceAPIException\u001b[0m                       Traceback (most recent call last)",
      "Cell \u001b[1;32mIn[1], line 64\u001b[0m\n\u001b[0;32m     62\u001b[0m \u001b[38;5;66;03m# === FETCH AND PROCESS ===\u001b[39;00m\n\u001b[0;32m     63\u001b[0m \u001b[38;5;28mprint\u001b[39m(\u001b[38;5;124m\"\u001b[39m\u001b[38;5;124mDownloading aggregate trades...\u001b[39m\u001b[38;5;124m\"\u001b[39m)\n\u001b[1;32m---> 64\u001b[0m agg_trades \u001b[38;5;241m=\u001b[39m \u001b[43mget_agg_trades\u001b[49m\u001b[43m(\u001b[49m\u001b[43msymbol\u001b[49m\u001b[43m,\u001b[49m\u001b[43m \u001b[49m\u001b[43mstart_ts\u001b[49m\u001b[43m,\u001b[49m\u001b[43m \u001b[49m\u001b[43mend_ts\u001b[49m\u001b[43m)\u001b[49m\n\u001b[0;32m     65\u001b[0m \u001b[38;5;28mprint\u001b[39m(\u001b[38;5;124mf\u001b[39m\u001b[38;5;124m\"\u001b[39m\u001b[38;5;124m Fetched \u001b[39m\u001b[38;5;132;01m{\u001b[39;00m\u001b[38;5;28mlen\u001b[39m(agg_trades)\u001b[38;5;132;01m}\u001b[39;00m\u001b[38;5;124m trades.\u001b[39m\u001b[38;5;124m\"\u001b[39m)\n\u001b[0;32m     67\u001b[0m \u001b[38;5;28mprint\u001b[39m(\u001b[38;5;124m\"\u001b[39m\u001b[38;5;124mAggregating volumes...\u001b[39m\u001b[38;5;124m\"\u001b[39m)\n",
      "Cell \u001b[1;32mIn[1], line 15\u001b[0m, in \u001b[0;36mget_agg_trades\u001b[1;34m(symbol, start_time, end_time)\u001b[0m\n\u001b[0;32m     13\u001b[0m trades \u001b[38;5;241m=\u001b[39m []\n\u001b[0;32m     14\u001b[0m \u001b[38;5;28;01mwhile\u001b[39;00m start_time \u001b[38;5;241m<\u001b[39m end_time:\n\u001b[1;32m---> 15\u001b[0m     batch \u001b[38;5;241m=\u001b[39m \u001b[43mclient\u001b[49m\u001b[38;5;241;43m.\u001b[39;49m\u001b[43mfutures_aggregate_trades\u001b[49m\u001b[43m(\u001b[49m\u001b[43m   \u001b[49m\u001b[38;5;66;43;03m#Fetch aggregate trades\u001b[39;49;00m\n\u001b[0;32m     16\u001b[0m \u001b[43m        \u001b[49m\u001b[43msymbol\u001b[49m\u001b[38;5;241;43m=\u001b[39;49m\u001b[43msymbol\u001b[49m\u001b[43m,\u001b[49m\n\u001b[0;32m     17\u001b[0m \u001b[43m        \u001b[49m\u001b[43mstartTime\u001b[49m\u001b[38;5;241;43m=\u001b[39;49m\u001b[43mstart_time\u001b[49m\u001b[43m,\u001b[49m\n\u001b[0;32m     18\u001b[0m \u001b[43m        \u001b[49m\u001b[43mendTime\u001b[49m\u001b[38;5;241;43m=\u001b[39;49m\u001b[43mend_time\u001b[49m\u001b[43m,\u001b[49m\n\u001b[0;32m     19\u001b[0m \u001b[43m        \u001b[49m\u001b[43mlimit\u001b[49m\u001b[38;5;241;43m=\u001b[39;49m\u001b[38;5;241;43m1000\u001b[39;49m\u001b[43m                     \u001b[49m\u001b[38;5;66;43;03m#max allowed trades in one request\u001b[39;49;00m\n\u001b[0;32m     20\u001b[0m \u001b[43m    \u001b[49m\u001b[43m)\u001b[49m\n\u001b[0;32m     21\u001b[0m     \u001b[38;5;28;01mif\u001b[39;00m \u001b[38;5;129;01mnot\u001b[39;00m batch:\n\u001b[0;32m     22\u001b[0m         \u001b[38;5;28;01mbreak\u001b[39;00m\n",
      "File \u001b[1;32mc:\\Users\\Mritunjay Maddhesiya\\AppData\\Local\\Programs\\Python\\Python311\\Lib\\site-packages\\binance\\client.py:7237\u001b[0m, in \u001b[0;36mClient.futures_aggregate_trades\u001b[1;34m(self, **params)\u001b[0m\n\u001b[0;32m   7230\u001b[0m \u001b[38;5;28;01mdef\u001b[39;00m \u001b[38;5;21mfutures_aggregate_trades\u001b[39m(\u001b[38;5;28mself\u001b[39m, \u001b[38;5;241m*\u001b[39m\u001b[38;5;241m*\u001b[39mparams):\n\u001b[0;32m   7231\u001b[0m \u001b[38;5;250m    \u001b[39m\u001b[38;5;124;03m\"\"\"Get compressed, aggregate trades. Trades that fill at the time, from the same order, with the same\u001b[39;00m\n\u001b[0;32m   7232\u001b[0m \u001b[38;5;124;03m    price will have the quantity aggregated.\u001b[39;00m\n\u001b[0;32m   7233\u001b[0m \n\u001b[0;32m   7234\u001b[0m \u001b[38;5;124;03m    https://binance-docs.github.io/apidocs/futures/en/#compressed-aggregate-trades-list-market_data\u001b[39;00m\n\u001b[0;32m   7235\u001b[0m \n\u001b[0;32m   7236\u001b[0m \u001b[38;5;124;03m    \"\"\"\u001b[39;00m\n\u001b[1;32m-> 7237\u001b[0m     \u001b[38;5;28;01mreturn\u001b[39;00m \u001b[38;5;28;43mself\u001b[39;49m\u001b[38;5;241;43m.\u001b[39;49m\u001b[43m_request_futures_api\u001b[49m\u001b[43m(\u001b[49m\u001b[38;5;124;43m\"\u001b[39;49m\u001b[38;5;124;43mget\u001b[39;49m\u001b[38;5;124;43m\"\u001b[39;49m\u001b[43m,\u001b[49m\u001b[43m \u001b[49m\u001b[38;5;124;43m\"\u001b[39;49m\u001b[38;5;124;43maggTrades\u001b[39;49m\u001b[38;5;124;43m\"\u001b[39;49m\u001b[43m,\u001b[49m\u001b[43m \u001b[49m\u001b[43mdata\u001b[49m\u001b[38;5;241;43m=\u001b[39;49m\u001b[43mparams\u001b[49m\u001b[43m)\u001b[49m\n",
      "File \u001b[1;32mc:\\Users\\Mritunjay Maddhesiya\\AppData\\Local\\Programs\\Python\\Python311\\Lib\\site-packages\\binance\\client.py:126\u001b[0m, in \u001b[0;36mClient._request_futures_api\u001b[1;34m(self, method, path, signed, version, **kwargs)\u001b[0m\n\u001b[0;32m    123\u001b[0m uri \u001b[38;5;241m=\u001b[39m \u001b[38;5;28mself\u001b[39m\u001b[38;5;241m.\u001b[39m_create_futures_api_uri(path, version)\n\u001b[0;32m    124\u001b[0m force_params \u001b[38;5;241m=\u001b[39m kwargs\u001b[38;5;241m.\u001b[39mpop(\u001b[38;5;124m\"\u001b[39m\u001b[38;5;124mforce_params\u001b[39m\u001b[38;5;124m\"\u001b[39m, \u001b[38;5;28;01mFalse\u001b[39;00m)\n\u001b[1;32m--> 126\u001b[0m \u001b[38;5;28;01mreturn\u001b[39;00m \u001b[38;5;28;43mself\u001b[39;49m\u001b[38;5;241;43m.\u001b[39;49m\u001b[43m_request\u001b[49m\u001b[43m(\u001b[49m\u001b[43mmethod\u001b[49m\u001b[43m,\u001b[49m\u001b[43m \u001b[49m\u001b[43muri\u001b[49m\u001b[43m,\u001b[49m\u001b[43m \u001b[49m\u001b[43msigned\u001b[49m\u001b[43m,\u001b[49m\u001b[43m \u001b[49m\u001b[43mforce_params\u001b[49m\u001b[43m,\u001b[49m\u001b[43m \u001b[49m\u001b[38;5;241;43m*\u001b[39;49m\u001b[38;5;241;43m*\u001b[39;49m\u001b[43mkwargs\u001b[49m\u001b[43m)\u001b[49m\n",
      "File \u001b[1;32mc:\\Users\\Mritunjay Maddhesiya\\AppData\\Local\\Programs\\Python\\Python311\\Lib\\site-packages\\binance\\client.py:89\u001b[0m, in \u001b[0;36mClient._request\u001b[1;34m(self, method, uri, signed, force_params, **kwargs)\u001b[0m\n\u001b[0;32m     86\u001b[0m     data \u001b[38;5;241m=\u001b[39m \u001b[38;5;124mf\u001b[39m\u001b[38;5;124m\"\u001b[39m\u001b[38;5;132;01m{\u001b[39;00murl_encoded_data\u001b[38;5;132;01m}\u001b[39;00m\u001b[38;5;124m&signature=\u001b[39m\u001b[38;5;132;01m{\u001b[39;00msignature\u001b[38;5;132;01m}\u001b[39;00m\u001b[38;5;124m\"\u001b[39m\n\u001b[0;32m     88\u001b[0m \u001b[38;5;28mself\u001b[39m\u001b[38;5;241m.\u001b[39mresponse \u001b[38;5;241m=\u001b[39m \u001b[38;5;28mgetattr\u001b[39m(\u001b[38;5;28mself\u001b[39m\u001b[38;5;241m.\u001b[39msession, method)(uri, headers\u001b[38;5;241m=\u001b[39mheaders, data\u001b[38;5;241m=\u001b[39mdata, \u001b[38;5;241m*\u001b[39m\u001b[38;5;241m*\u001b[39mkwargs)\n\u001b[1;32m---> 89\u001b[0m \u001b[38;5;28;01mreturn\u001b[39;00m \u001b[38;5;28;43mself\u001b[39;49m\u001b[38;5;241;43m.\u001b[39;49m\u001b[43m_handle_response\u001b[49m\u001b[43m(\u001b[49m\u001b[38;5;28;43mself\u001b[39;49m\u001b[38;5;241;43m.\u001b[39;49m\u001b[43mresponse\u001b[49m\u001b[43m)\u001b[49m\n",
      "File \u001b[1;32mc:\\Users\\Mritunjay Maddhesiya\\AppData\\Local\\Programs\\Python\\Python311\\Lib\\site-packages\\binance\\client.py:98\u001b[0m, in \u001b[0;36mClient._handle_response\u001b[1;34m(response)\u001b[0m\n\u001b[0;32m     93\u001b[0m \u001b[38;5;250m\u001b[39m\u001b[38;5;124;03m\"\"\"Internal helper for handling API responses from the Binance server.\u001b[39;00m\n\u001b[0;32m     94\u001b[0m \u001b[38;5;124;03mRaises the appropriate exceptions when necessary; otherwise, returns the\u001b[39;00m\n\u001b[0;32m     95\u001b[0m \u001b[38;5;124;03mresponse.\u001b[39;00m\n\u001b[0;32m     96\u001b[0m \u001b[38;5;124;03m\"\"\"\u001b[39;00m\n\u001b[0;32m     97\u001b[0m \u001b[38;5;28;01mif\u001b[39;00m \u001b[38;5;129;01mnot\u001b[39;00m (\u001b[38;5;241m200\u001b[39m \u001b[38;5;241m<\u001b[39m\u001b[38;5;241m=\u001b[39m response\u001b[38;5;241m.\u001b[39mstatus_code \u001b[38;5;241m<\u001b[39m \u001b[38;5;241m300\u001b[39m):\n\u001b[1;32m---> 98\u001b[0m     \u001b[38;5;28;01mraise\u001b[39;00m BinanceAPIException(response, response\u001b[38;5;241m.\u001b[39mstatus_code, response\u001b[38;5;241m.\u001b[39mtext)\n\u001b[0;32m    100\u001b[0m \u001b[38;5;28;01mif\u001b[39;00m response\u001b[38;5;241m.\u001b[39mtext \u001b[38;5;241m==\u001b[39m \u001b[38;5;124m\"\u001b[39m\u001b[38;5;124m\"\u001b[39m:\n\u001b[0;32m    101\u001b[0m     \u001b[38;5;28;01mreturn\u001b[39;00m {}\n",
      "\u001b[1;31mBinanceAPIException\u001b[0m: APIError(code=-1003): Too many requests; current limit of IP(103.253.174.244) is 2400 requests per minute. Please use the websocket for live updates to avoid polling the API."
     ]
    }
   ],
   "source": [
    "from binance.client import Client\n",
    "import pandas as pd\n",
    "import time\n",
    "from datetime import datetime, timedelta\n",
    "\n",
    "# Initialize Binance Futures client\n",
    "client = Client()\n",
    "\n",
    "#start_time and end_time in milliseconds\n",
    "#This function fetches total traded volume\n",
    "def get_agg_trades(symbol, start_time, end_time):\n",
    "    \n",
    "    trades = []\n",
    "    while start_time < end_time:\n",
    "        batch = client.futures_aggregate_trades(   #Fetch aggregate trades\n",
    "            symbol=symbol,\n",
    "            startTime=start_time,\n",
    "            endTime=end_time,\n",
    "            limit=1000                     #max allowed trades in one request\n",
    "        )\n",
    "        if not batch:\n",
    "            break\n",
    "        trades.extend(batch)               #store the trades\n",
    "        last_trade_time = batch[-1]['T']   #last trade time\n",
    "        start_time = last_trade_time + 1   #start time\n",
    "        time.sleep(0.1)                    # To prevent rate limits\n",
    "    return trades\n",
    "\n",
    "\n",
    "###seprate the bid and ask volume from the trades\n",
    "def process_trades_to_volume_df(trades, interval='1min'):\n",
    "    \n",
    "    records = []\n",
    "    for trade in trades:\n",
    "        ts = pd.to_datetime(trade['T'], unit='ms')       #data frame timestamp\n",
    "        qty = float(trade['q'])                          #Total quantity traded in 1min\n",
    "        is_buyer_maker = trade['m']                      #m -> buy maker flag\n",
    "        bid_volume = qty if is_buyer_maker else 0        #bid\n",
    "        ask_volume = qty if not is_buyer_maker else 0    #ask\n",
    "        records.append({                                 \n",
    "            'timestamp': ts,\n",
    "            'bid_volume': bid_volume,\n",
    "            'ask_volume': ask_volume\n",
    "        })\n",
    "\n",
    "    df = pd.DataFrame(records)                           #data frame\n",
    "    df.set_index('timestamp', inplace=True)              #set index to timestamp\n",
    "    df = df.resample(interval).sum().fillna(0)           #Resample is  important for interval(add every bid/ask volume in 1min)\n",
    "    df['total_volume'] = df['bid_volume'] + df['ask_volume']\n",
    "    return df\n",
    "\n",
    "# === USER PARAMETERS ===\n",
    "symbol = 'SOLUSDT'\n",
    "start_date = '2025-01-01 00:00:00'\n",
    "end_date   = '2025-08-19 00:00:00'\n",
    "interval = '1H'\n",
    "\n",
    "# === TIME CONVERSION ===\n",
    "start_ts = int(pd.to_datetime(start_date).timestamp() * 1000)\n",
    "end_ts = int(pd.to_datetime(end_date).timestamp() * 1000)\n",
    "\n",
    "# === FETCH AND PROCESS ===\n",
    "print(\"Downloading aggregate trades...\")\n",
    "agg_trades = get_agg_trades(symbol, start_ts, end_ts)\n",
    "print(f\" Fetched {len(agg_trades)} trades.\")\n",
    "\n",
    "print(\"Aggregating volumes...\")\n",
    "volume_df = process_trades_to_volume_df(agg_trades, interval=interval)\n",
    "\n",
    "# === EXPORT ===\n",
    "volume_df.to_csv(f'{symbol}_bid_ask_volume_{interval}_3_4.csv')\n",
    "print(volume_df.head())\n"
   ]
  },
  {
   "cell_type": "markdown",
   "id": "fac6c8aa",
   "metadata": {},
   "source": [
    "## New"
   ]
  },
  {
   "cell_type": "code",
   "execution_count": 6,
   "id": "571c30c7",
   "metadata": {},
   "outputs": [
    {
     "name": "stdout",
     "output_type": "stream",
     "text": [
      "              open_time  bid_volume  ask_volume  total_volume\n",
      "0   2025-01-01 00:00:00    359295.0    227245.0      586540.0\n",
      "1   2025-01-01 01:00:00    152790.0    182184.0      334974.0\n",
      "2   2025-01-01 02:00:00    107411.0     96720.0      204131.0\n",
      "3   2025-01-01 03:00:00     71486.0    108967.0      180453.0\n",
      "4   2025-01-01 04:00:00    130134.0    145544.0      275678.0\n",
      "..                  ...         ...         ...           ...\n",
      "495 2025-01-21 15:00:00    527910.0    608214.0     1136124.0\n",
      "496 2025-01-21 16:00:00    899949.0    900045.0     1799994.0\n",
      "497 2025-01-21 17:00:00    459655.0    409816.0      869471.0\n",
      "498 2025-01-21 18:00:00    904147.0    878374.0     1782521.0\n",
      "499 2025-01-21 19:00:00    756503.0    860104.0     1616607.0\n",
      "\n",
      "[500 rows x 4 columns]\n"
     ]
    }
   ],
   "source": [
    "from binance.client import Client\n",
    "import pandas as pd\n",
    "\n",
    "client = Client()\n",
    "\n",
    "symbol = \"SOLUSDT\"\n",
    "interval = Client.KLINE_INTERVAL_1HOUR   # 1H candles\n",
    "start_date = \"2025-01-01 00:00:00\"\n",
    "end_date   = \"2025-02-01 00:00:00\"\n",
    "\n",
    "klines = client.futures_klines(\n",
    "    symbol=symbol,\n",
    "    interval=interval,\n",
    "    startTime=int(pd.to_datetime(start_date).timestamp() * 1000),\n",
    "    endTime=int(pd.to_datetime(end_date).timestamp() * 1000)\n",
    ")\n",
    "\n",
    "# Convert to DataFrame\n",
    "df = pd.DataFrame(klines, columns=[\n",
    "    \"open_time\",\"open\",\"high\",\"low\",\"close\",\"volume\",\n",
    "    \"close_time\",\"quote_asset_volume\",\"num_trades\",\n",
    "    \"taker_buy_base\",\"taker_buy_quote\",\"ignore\"\n",
    "])\n",
    "\n",
    "# Convert types\n",
    "df[\"open_time\"] = pd.to_datetime(df[\"open_time\"], unit=\"ms\")\n",
    "df[\"close_time\"] = pd.to_datetime(df[\"close_time\"], unit=\"ms\")\n",
    "df[\"volume\"] = df[\"volume\"].astype(float)\n",
    "df[\"taker_buy_base\"] = df[\"taker_buy_base\"].astype(float)\n",
    "\n",
    "# Compute bid/ask volumes\n",
    "df[\"bid_volume\"] = df[\"taker_buy_base\"]         # taker is buyer → bid\n",
    "df[\"ask_volume\"] = df[\"volume\"] - df[\"bid_volume\"]\n",
    "df[\"total_volume\"] = df[\"volume\"]\n",
    "\n",
    "print(df[[\"open_time\",\"bid_volume\",\"ask_volume\",\"total_volume\"]])\n",
    "df.to_csv(\"SOLUSDT_1H_bid_ask_volume.csv\", index=False)\n"
   ]
  },
  {
   "cell_type": "code",
   "execution_count": null,
   "id": "71935acc",
   "metadata": {},
   "outputs": [],
   "source": []
  }
 ],
 "metadata": {
  "kernelspec": {
   "display_name": "Python 3",
   "language": "python",
   "name": "python3"
  },
  "language_info": {
   "codemirror_mode": {
    "name": "ipython",
    "version": 3
   },
   "file_extension": ".py",
   "mimetype": "text/x-python",
   "name": "python",
   "nbconvert_exporter": "python",
   "pygments_lexer": "ipython3",
   "version": "3.11.5"
  }
 },
 "nbformat": 4,
 "nbformat_minor": 5
}
